{
 "cells": [
  {
   "cell_type": "markdown",
   "metadata": {
    "collapsed": true
   },
   "source": [
    "# Colorizing Australia"
   ]
  },
  {
   "cell_type": "markdown",
   "metadata": {},
   "source": [
    "In this assignment, you will implement the backtracking search for colorizing the Australia on your own."
   ]
  },
  {
   "cell_type": "code",
   "execution_count": 1,
   "metadata": {
    "collapsed": true
   },
   "outputs": [],
   "source": [
    "class CSP(object):\n",
    "    def __init__(self):\n",
    "        self.variables = []\n",
    "        self.domains = {}\n",
    "        self.factors = {}\n",
    "\n",
    "    def add_variable(self, variable, domain):\n",
    "        \"\"\"\n",
    "        Takes variable and its domain and adds them to the CSP\n",
    "        :param variable: any type\n",
    "        :param domain: list of possible values for teh variable\n",
    "        \"\"\"\n",
    "        if variable in self.variables: raise ValueError('This CSP already contains variable', variable, ', please use another name or check the consistency of your code.' )\n",
    "        if type(domain) is not list: raise ValueError('Domain should be a list.' )\n",
    "        self.variables.append(variable)\n",
    "        self.domains[variable] = domain\n",
    "\n",
    "    def add_factor(self, variables, factor_function):\n",
    "        \"\"\"\n",
    "        Takes variables and the potential for these variables and adds them to the CSP\n",
    "        :param variables: set of variables\n",
    "        :param potential: potential function taking values of the variables as input and returning \n",
    "        non-negative value of the potential  \n",
    "        \"\"\"\n",
    "\n",
    "        if type(variables) not in (list, set): raise ValueError('Variables should be a list or a set.' )\n",
    "        if type(variables) is list: variables = frozenset(variables)\n",
    "\n",
    "        if variables in self.factors.keys():\n",
    "            self.factors[variables].append(factor_function)\n",
    "        else:\n",
    "            self.factors[variables] = [factor_function]"
   ]
  },
  {
   "cell_type": "markdown",
   "metadata": {},
   "source": [
    "Here is the code constructing CSP for you. Examine it carefuly, make sure you understand all the srtuctures used."
   ]
  },
  {
   "cell_type": "code",
   "execution_count": 2,
   "metadata": {
    "collapsed": true
   },
   "outputs": [],
   "source": [
    "import copy\n",
    "csp_Australia = CSP()\n",
    "provinces = ['WA', 'NT', 'Q', 'NSW', 'V', 'SA', 'T']\n",
    "neighbors = {\n",
    "    'SA' : ['WA', 'NT', 'Q', 'NSW', 'V'],\n",
    "    'NT' : ['WA', 'Q'],\n",
    "    'NSW' : ['Q', 'V']\n",
    "}\n",
    "\n",
    "colors = ['red', 'blue', 'green']\n",
    "\n",
    "def are_neighbors(a, b):\n",
    "    return (a in neighbors and b in neighbors[a]) or (b in neighbors and a in neighbors[b])\n",
    "\n",
    "for p in provinces:\n",
    "    csp_Australia.add_variable(p, copy.deepcopy(colors))\n",
    "for p1 in provinces:\n",
    "    for p2 in provinces:\n",
    "        if are_neighbors(p1, p2):\n",
    "            \n",
    "            # Neighbors cannot have the same color\n",
    "            csp_Australia.add_factor([p1, p2], lambda x, y : x != y)"
   ]
  },
  {
   "cell_type": "markdown",
   "metadata": {},
   "source": [
    "Here you will implement backtracking search with advanced forward checking and without propagation through a singleton domain for a good reason.\n",
    "\n",
    "Backtracking search will work like the following: it takes partial assignment is a form of all possible values to the variables (initially - full domains of the CSP). Next, we will do assignments by eliminating everything except the assigned value from the variable's domain. This way, we already enforce Prop-1 by design. \n",
    "\n",
    "Here is scp_solver class where you should add your code."
   ]
  },
  {
   "cell_type": "code",
   "execution_count": 3,
   "metadata": {
    "collapsed": true
   },
   "outputs": [],
   "source": [
    "class csp_solver():\n",
    "\n",
    "    def solve(self, csp):\n",
    "        self.csp = csp\n",
    "\n",
    "        # Dictionary for storing all valid assignments. Note, unlike standard CSP when we\n",
    "        # are interested only in one valid assignment, for this problem you need to\n",
    "        # find all valid assignments\n",
    "        self.valid_assignments = []\n",
    "\n",
    "        # Number of all valid assignments\n",
    "\n",
    "        # Number of times backtracking operation is called\n",
    "        self.num_operations = 0\n",
    "\n",
    "        self.backtrack(copy.deepcopy(csp.domains))\n",
    "\n",
    "        if self.valid_assignments != []:\n",
    "            print('Found %d optimal assignments in %d operations' % (len(self.valid_assignments), self.num_operations))\n",
    "            for assignment in self.valid_assignments:\n",
    "                print(assignment)\n",
    "        else:\n",
    "            print('No assignments was found.')\n",
    "        \n",
    "\n",
    "    def backtrack(self, partial_assignment):\n",
    "        \"\"\"\n",
    "\n",
    "        2c.\n",
    "\n",
    "        Here you will implement backtracking search with arc consistency (advanced forward checking) and without propagation\n",
    "        through a singleton domain for a good reason.\n",
    "\n",
    "        Backtracking search will work like the following: it takes partial assignment is a form of\n",
    "        all possible values to the variables (initially - full domains of the CSP). Next, we will do assignments\n",
    "        by eliminating everything except the assigned value from the variable's domain. This way, we already enforce\n",
    "        Prop-1 by design.\n",
    "\n",
    "        If the valid assignment is found, add it to self.valid_assignments in a form of (assignment:}\n",
    "\n",
    "        :param partial_assignment: a dictionary containing partial assignment in a form {variable:list of possible values}\n",
    "        \"\"\"\n",
    "        self.num_operations += 1\n",
    "        \n",
    "        assigned_var = self.choose_next_variable_min(partial_assignment)  # choose next variable with smallest domain size\n",
    "        #assigned_var = self.choose_next_variable_max(partial_assignment)  # choose next variable with leargest domain size\n",
    "\n",
    "        for col in partial_assignment[assigned_var]:\n",
    "\n",
    "            temp_partial_assignment = copy.deepcopy(partial_assignment)\n",
    "            temp_partial_assignment[assigned_var] = [col] # assign color to the assigned variable\n",
    "            # Run forward_checking to eliminate domains from neighbors \n",
    "            temp_partial_assignment = self.forward_checking(assigned_var, temp_partial_assignment, self.csp.factors)\n",
    "            \n",
    "            if not self.consistent(temp_partial_assignment): # check for consistency\n",
    "                continue\n",
    "                \n",
    "            if self.is_valid_assignment(temp_partial_assignment):\n",
    "                self.valid_assignments.append(temp_partial_assignment)\n",
    "                continue\n",
    "                \n",
    "            # need to continue backtracking, finished search for this variable -> choose next one\n",
    "            self.backtrack(temp_partial_assignment) \n",
    "\n",
    "\n",
    "    def consistent(self, partial_assignment):\n",
    "        \"\"\" Check if any domains is empty.\"\"\"\n",
    "        return all([value for value in partial_assignment.values()])\n",
    "\n",
    "    \n",
    "    def is_valid_assignment(self, assignment):\n",
    "        \"\"\" Check if we found one final result.\"\"\"\n",
    "        check_all = sum([len(value) for value in assignment.values()])\n",
    "        return check_all == len(assignment)\n",
    "\n",
    "    \n",
    "    def choose_next_variable_max(self, partial_assignment):\n",
    "        \"\"\"\n",
    "        2a.\n",
    "        :param partial_assignment: a dictionary containing partial assignment in a form {variable:list of values}\n",
    "        :return: variable for partial assignment\n",
    "        \"\"\"\n",
    "        list_length = [len(partial_assignment.get(str(value))) for value in partial_assignment.keys()]\n",
    "        return list(partial_assignment.keys())[list_length.index(max(list_length))]\n",
    "\n",
    "    \n",
    "    def choose_next_variable_min(self, partial_assignment):\n",
    "        \"\"\"\n",
    "        2d. Better Heuristic\n",
    "        :param partial_assignment: a dictionary containing partial assignment in a form {variable:list of values}\n",
    "        :return: variable for partial assignment\n",
    "        \"\"\"\n",
    "        list_length = []\n",
    "        values = []\n",
    "        for value in partial_assignment.keys():\n",
    "            length = len(partial_assignment.get(str(value)))\n",
    "            if length > 1:\n",
    "                list_length.append(length)\n",
    "                values.append(value)\n",
    "\n",
    "        return values[list_length.index(min(list_length))]\n",
    "\n",
    "\n",
    "    def forward_checking(self, assigned_variable, partial_assignment, factors):\n",
    "        \"\"\"\n",
    "        2b.\n",
    "        Implements forward checking on steroids. Checks if any domain contains values inconsistent with current assignment\n",
    "        and eliminate these variables from the domain. As a result of this domain reduction there could be another\n",
    "        inconsistency in the domains. Eliminate them recursively by keeping track of the reduced domain and calling forward_checking\n",
    "        as a recursion.\n",
    "\n",
    "        This wild version of forward checking is called arc consistency and is one of the most efficient implementation of the\n",
    "        forward checking idea for CSP.\n",
    "\n",
    "        :param assigned_variable: recently assigned variable or the variable for which the domain has been reduced\n",
    "        :param partial_assignment: a dictionary containing partial assignment in a form {variable:list of values}\n",
    "        :param factors: a dictionary containing factoors of the CSP if the form of {frozenset(variables):list of constraint functions}\n",
    "        :return: a dictionary of partial assignments with reduced domains\n",
    "        \"\"\"\n",
    "        assigned_colour = partial_assignment[assigned_variable][0]   # coosed colour\n",
    "        temp_partial_assignment = copy.deepcopy(partial_assignment)\n",
    "        for var in partial_assignment.keys():\n",
    "            if frozenset([assigned_variable, var]) in factors:  # check if neighbours\n",
    "                try:\n",
    "                    temp_partial_assignment[var].remove(assigned_colour)\n",
    "                except ValueError:\n",
    "                    continue\n",
    "                    \n",
    "                if len(temp_partial_assignment[var]) == 1:    # if variable has one domain left run again forward checking\n",
    "                    temp_partial_assignment = self.forward_checking(var, temp_partial_assignment, factors)\n",
    "                    \n",
    "                elif len(temp_partial_assignment[var]) == 0:\n",
    "                    return temp_partial_assignment\n",
    "\n",
    "        return temp_partial_assignment"
   ]
  },
  {
   "cell_type": "code",
   "execution_count": 4,
   "metadata": {},
   "outputs": [
    {
     "name": "stdout",
     "output_type": "stream",
     "text": [
      "Found 18 optimal assignments in 10 operations\n",
      "{'WA': ['red'], 'NT': ['blue'], 'Q': ['red'], 'NSW': ['blue'], 'V': ['red'], 'SA': ['green'], 'T': ['red']}\n",
      "{'WA': ['red'], 'NT': ['blue'], 'Q': ['red'], 'NSW': ['blue'], 'V': ['red'], 'SA': ['green'], 'T': ['blue']}\n",
      "{'WA': ['red'], 'NT': ['blue'], 'Q': ['red'], 'NSW': ['blue'], 'V': ['red'], 'SA': ['green'], 'T': ['green']}\n",
      "{'WA': ['red'], 'NT': ['green'], 'Q': ['red'], 'NSW': ['green'], 'V': ['red'], 'SA': ['blue'], 'T': ['red']}\n",
      "{'WA': ['red'], 'NT': ['green'], 'Q': ['red'], 'NSW': ['green'], 'V': ['red'], 'SA': ['blue'], 'T': ['blue']}\n",
      "{'WA': ['red'], 'NT': ['green'], 'Q': ['red'], 'NSW': ['green'], 'V': ['red'], 'SA': ['blue'], 'T': ['green']}\n",
      "{'WA': ['blue'], 'NT': ['red'], 'Q': ['blue'], 'NSW': ['red'], 'V': ['blue'], 'SA': ['green'], 'T': ['red']}\n",
      "{'WA': ['blue'], 'NT': ['red'], 'Q': ['blue'], 'NSW': ['red'], 'V': ['blue'], 'SA': ['green'], 'T': ['blue']}\n",
      "{'WA': ['blue'], 'NT': ['red'], 'Q': ['blue'], 'NSW': ['red'], 'V': ['blue'], 'SA': ['green'], 'T': ['green']}\n",
      "{'WA': ['blue'], 'NT': ['green'], 'Q': ['blue'], 'NSW': ['green'], 'V': ['blue'], 'SA': ['red'], 'T': ['red']}\n",
      "{'WA': ['blue'], 'NT': ['green'], 'Q': ['blue'], 'NSW': ['green'], 'V': ['blue'], 'SA': ['red'], 'T': ['blue']}\n",
      "{'WA': ['blue'], 'NT': ['green'], 'Q': ['blue'], 'NSW': ['green'], 'V': ['blue'], 'SA': ['red'], 'T': ['green']}\n",
      "{'WA': ['green'], 'NT': ['red'], 'Q': ['green'], 'NSW': ['red'], 'V': ['green'], 'SA': ['blue'], 'T': ['red']}\n",
      "{'WA': ['green'], 'NT': ['red'], 'Q': ['green'], 'NSW': ['red'], 'V': ['green'], 'SA': ['blue'], 'T': ['blue']}\n",
      "{'WA': ['green'], 'NT': ['red'], 'Q': ['green'], 'NSW': ['red'], 'V': ['green'], 'SA': ['blue'], 'T': ['green']}\n",
      "{'WA': ['green'], 'NT': ['blue'], 'Q': ['green'], 'NSW': ['blue'], 'V': ['green'], 'SA': ['red'], 'T': ['red']}\n",
      "{'WA': ['green'], 'NT': ['blue'], 'Q': ['green'], 'NSW': ['blue'], 'V': ['green'], 'SA': ['red'], 'T': ['blue']}\n",
      "{'WA': ['green'], 'NT': ['blue'], 'Q': ['green'], 'NSW': ['blue'], 'V': ['green'], 'SA': ['red'], 'T': ['green']}\n"
     ]
    }
   ],
   "source": [
    "solver = csp_solver()\n",
    "solver.solve(csp_Australia)"
   ]
  },
  {
   "cell_type": "markdown",
   "metadata": {},
   "source": [
    "# Better heuristics\n",
    "Number of operations changes when we choose next variable by finding variable with minimum number of possible domains rather than with maximum.\n",
    "I created two functions: choose_next_variable_min and choose_next_variable_max.\n",
    "Backtrack with choose_next_variable_max works for 19 operations.\n",
    "Backtrack with choose_next_variable_min works for 10 operations.\n",
    "\n",
    "Choosing min instead of max changes situation as 'for loop' inside backtrack function is called for n times, where n is number of colors(domains) that variable has. The smaller is this number the less operations we need to do.\n"
   ]
  },
  {
   "cell_type": "code",
   "execution_count": null,
   "metadata": {
    "collapsed": true
   },
   "outputs": [],
   "source": []
  }
 ],
 "metadata": {
  "kernelspec": {
   "display_name": "Python 3",
   "language": "python",
   "name": "python3"
  },
  "language_info": {
   "codemirror_mode": {
    "name": "ipython",
    "version": 3
   },
   "file_extension": ".py",
   "mimetype": "text/x-python",
   "name": "python",
   "nbconvert_exporter": "python",
   "pygments_lexer": "ipython3",
   "version": "3.6.3"
  }
 },
 "nbformat": 4,
 "nbformat_minor": 1
}
